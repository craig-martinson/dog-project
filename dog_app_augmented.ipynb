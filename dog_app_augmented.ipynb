{
 "cells": [
  {
   "cell_type": "markdown",
   "metadata": {},
   "source": [
    "## Use a CNN to Classify Dog Breeds using Transfer Learning\n",
    "\n",
    "This is an alternative to Step 5 in the project where transfer learning is used to create a CNN that can identify dog breed from images. \n",
    "\n",
    "In addition to demonstrating transfer learning this example also uses image augmentation when extracting bottleneck features and training the new network.\n",
    "\n",
    "### High Level Approach\n",
    "\n",
    "The high level approach is as follows:\n",
    "\n",
    "1. Extract the bottleneck features from InceptionV3 model\n",
    "2. Train new network using the extracted bottleneck features\n",
    "3. Use new model to make predictions"
   ]
  },
  {
   "cell_type": "markdown",
   "metadata": {},
   "source": [
    "### Extract Bottleneck Features from InceptionV3 Model"
   ]
  },
  {
   "cell_type": "code",
   "execution_count": 1,
   "metadata": {},
   "outputs": [
    {
     "name": "stderr",
     "output_type": "stream",
     "text": [
      "Using TensorFlow backend.\n"
     ]
    }
   ],
   "source": [
    "# Import Python Libraries\n",
    "\n",
    "import numpy as np\n",
    "#import tensorflow as tf\n",
    "import keras as keras\n",
    "from keras.layers import Conv2D, MaxPooling2D, GlobalAveragePooling2D\n",
    "from keras.layers import Activation, Dropout, Flatten, Dense, BatchNormalization\n",
    "from keras.models import Sequential\n",
    "from keras.preprocessing.image import ImageDataGenerator\n",
    "from keras.callbacks import ModelCheckpoint \n",
    "from keras.utils.np_utils import to_categorical\n",
    "import math\n",
    "import utility"
   ]
  },
  {
   "cell_type": "markdown",
   "metadata": {},
   "source": [
    "The following is required to address a bug when using ImageDataGenerator and the InceptionV3 model. See [IOError: Image File is truncated](https://github.com/keras-team/keras/issues/5475) for details."
   ]
  },
  {
   "cell_type": "code",
   "execution_count": 2,
   "metadata": {
    "collapsed": true
   },
   "outputs": [],
   "source": [
    "from PIL import ImageFile\n",
    "ImageFile.LOAD_TRUNCATED_IMAGES = True"
   ]
  },
  {
   "cell_type": "code",
   "execution_count": 3,
   "metadata": {
    "collapsed": true
   },
   "outputs": [],
   "source": [
    "# Get the InceptionV3 model with the final fully-connected layers removed\n",
    "\n",
    "from keras.applications.inception_v3 import InceptionV3\n",
    "model = InceptionV3(include_top=False)\n",
    "#model.summary()"
   ]
  },
  {
   "cell_type": "code",
   "execution_count": 4,
   "metadata": {
    "collapsed": true
   },
   "outputs": [],
   "source": [
    "augmentation_datagen = ImageDataGenerator(\n",
    "        rescale=1./255,\n",
    "        shear_range=0.2,\n",
    "        rotation_range=40,\n",
    "        width_shift_range=0.2,\n",
    "        height_shift_range=0.2,\n",
    "        zoom_range=0.2,\n",
    "        horizontal_flip=True)\n",
    "\n",
    "standard_datagen = ImageDataGenerator(rescale=1./255)\n",
    "\n",
    "batch_size = 32"
   ]
  },
  {
   "cell_type": "code",
   "execution_count": 5,
   "metadata": {},
   "outputs": [
    {
     "name": "stdout",
     "output_type": "stream",
     "text": [
      "Found 6680 images belonging to 133 classes.\n"
     ]
    }
   ],
   "source": [
    "# Use a data generator to run augmented images from the training dataset through the network.\n",
    "\n",
    "train_generator = augmentation_datagen.flow_from_directory(\n",
    "        'dogImages/train',\n",
    "        target_size=(224, 224),\n",
    "        batch_size=batch_size,\n",
    "        class_mode=None,\n",
    "        shuffle=False)\n",
    "\n",
    "number_of_train_samples = len(train_generator.filenames)\n",
    "number_of_train_steps = int(math.ceil(number_of_train_samples / float(batch_size)))\n",
    "\n",
    "train_bottleneck_features = model.predict_generator(train_generator, number_of_train_steps)"
   ]
  },
  {
   "cell_type": "code",
   "execution_count": 6,
   "metadata": {},
   "outputs": [
    {
     "name": "stdout",
     "output_type": "stream",
     "text": [
      "Found 835 images belonging to 133 classes.\n"
     ]
    }
   ],
   "source": [
    "# Use a data generator to run augmented images from the validation dataset through the network\n",
    "\n",
    "valid_generator = augmentation_datagen.flow_from_directory(\n",
    "        'dogImages/valid',\n",
    "        target_size=(224, 224),\n",
    "        batch_size=batch_size,\n",
    "        class_mode=None,\n",
    "        shuffle=False)\n",
    "\n",
    "number_of_valid_samples = len(valid_generator.filenames)\n",
    "number_of_valid_steps = int(math.ceil(number_of_valid_samples / float(batch_size)))\n",
    "\n",
    "valid_bottleneck_features = model.predict_generator(valid_generator, number_of_valid_steps)"
   ]
  },
  {
   "cell_type": "code",
   "execution_count": 7,
   "metadata": {},
   "outputs": [
    {
     "name": "stdout",
     "output_type": "stream",
     "text": [
      "Found 836 images belonging to 133 classes.\n"
     ]
    }
   ],
   "source": [
    "# Use a data generator to run non-augmented images from the testing dataset through the network\n",
    "\n",
    "test_generator = standard_datagen.flow_from_directory(\n",
    "        'dogImages/test',\n",
    "        target_size=(224, 224),\n",
    "        batch_size=batch_size,\n",
    "        class_mode=None,\n",
    "        shuffle=False)\n",
    "\n",
    "number_of_test_samples = len(test_generator.filenames)\n",
    "number_of_test_steps = int(math.ceil(number_of_test_samples / float(batch_size)))\n",
    "\n",
    "test_bottleneck_features = model.predict_generator(test_generator, number_of_test_steps)"
   ]
  },
  {
   "cell_type": "code",
   "execution_count": 8,
   "metadata": {
    "collapsed": true
   },
   "outputs": [],
   "source": [
    "# Save the bottleneck features to an .npz file\n",
    "\n",
    "np.savez('bottleneck_features/dog_features_augmented_InceptionV3Data.npz', train=train_bottleneck_features, valid=valid_bottleneck_features, test=test_bottleneck_features)"
   ]
  },
  {
   "cell_type": "markdown",
   "metadata": {},
   "source": [
    "### Train New Network using Extracted Bottleneck Features"
   ]
  },
  {
   "cell_type": "code",
   "execution_count": 9,
   "metadata": {
    "collapsed": true
   },
   "outputs": [],
   "source": [
    "# load the bottleneck features\n",
    "bottleneck_features = np.load('bottleneck_features/dog_features_augmented_InceptionV3Data.npz')"
   ]
  },
  {
   "cell_type": "code",
   "execution_count": 10,
   "metadata": {},
   "outputs": [
    {
     "name": "stdout",
     "output_type": "stream",
     "text": [
      "Found 6680 images belonging to 133 classes.\n"
     ]
    }
   ],
   "source": [
    "# Define data generators for training\n",
    "\n",
    "train_generator = augmentation_datagen.flow_from_directory(\n",
    "        'dogImages/train',\n",
    "        target_size=(224, 224),\n",
    "        batch_size=batch_size,\n",
    "        class_mode='categorical',\n",
    "        shuffle=False)\n",
    "\n",
    "number_of_train_samples = len(train_generator.filenames)\n",
    "number_of_train_classes = len(train_generator.class_indices)\n",
    "number_of_train_steps = int(math.ceil(number_of_train_samples / float(batch_size)))\n",
    "\n",
    "# get the bottleneck features\n",
    "train_data = bottleneck_features['train']\n",
    "\n",
    "# get class lables\n",
    "train_labels = train_generator.classes\n",
    "\n",
    "# convert to categorical vectors\n",
    "train_labels = to_categorical(train_labels, num_classes=number_of_train_classes)"
   ]
  },
  {
   "cell_type": "code",
   "execution_count": 11,
   "metadata": {},
   "outputs": [
    {
     "name": "stdout",
     "output_type": "stream",
     "text": [
      "Found 835 images belonging to 133 classes.\n"
     ]
    }
   ],
   "source": [
    "# Define data generators for validation\n",
    "\n",
    "valid_generator = augmentation_datagen.flow_from_directory(\n",
    "        'dogImages/valid',\n",
    "        target_size=(224, 224),\n",
    "        batch_size=batch_size,\n",
    "        class_mode=None,\n",
    "        shuffle=False)\n",
    "\n",
    "number_of_valid_samples = len(valid_generator.filenames)\n",
    "number_of_valid_classes = len(valid_generator.class_indices)\n",
    "number_of_valid_steps = int(math.ceil(number_of_valid_samples / float(batch_size)))\n",
    "\n",
    "# get the bottleneck features\n",
    "valid_data = bottleneck_features['valid']\n",
    "\n",
    "# get class lables\n",
    "valid_labels = valid_generator.classes\n",
    "\n",
    "# convert to categorical vectors\n",
    "valid_labels = to_categorical(valid_labels, num_classes=number_of_valid_classes)"
   ]
  },
  {
   "cell_type": "code",
   "execution_count": 12,
   "metadata": {},
   "outputs": [
    {
     "name": "stdout",
     "output_type": "stream",
     "text": [
      "Found 836 images belonging to 133 classes.\n"
     ]
    }
   ],
   "source": [
    "# Define data generators for testing\n",
    "\n",
    "test_generator = standard_datagen.flow_from_directory(\n",
    "        'dogImages/test',\n",
    "        target_size=(224, 224),\n",
    "        batch_size=batch_size,\n",
    "        class_mode=None,\n",
    "        shuffle=False)\n",
    "\n",
    "number_of_test_samples = len(test_generator.filenames)\n",
    "number_of_test_classes = len(test_generator.class_indices)\n",
    "number_of_test_steps = int(math.ceil(number_of_test_samples / float(batch_size)))\n",
    "\n",
    "# get the bottleneck features\n",
    "test_data = bottleneck_features['test']\n",
    "\n",
    "# get class lables\n",
    "test_labels = test_generator.classes\n",
    "\n",
    "# convert to categorical vectors\n",
    "test_labels = to_categorical(test_labels, num_classes=number_of_test_classes)"
   ]
  },
  {
   "cell_type": "code",
   "execution_count": 13,
   "metadata": {},
   "outputs": [
    {
     "name": "stdout",
     "output_type": "stream",
     "text": [
      "WARNING:tensorflow:From /home/craig/anaconda3/envs/dog-project/lib/python3.6/site-packages/keras/backend/tensorflow_backend.py:1123: calling reduce_mean (from tensorflow.python.ops.math_ops) with keep_dims is deprecated and will be removed in a future version.\n",
      "Instructions for updating:\n",
      "keep_dims is deprecated, use keepdims instead\n",
      "_________________________________________________________________\n",
      "Layer (type)                 Output Shape              Param #   \n",
      "=================================================================\n",
      "global_average_pooling2d_1 ( (None, 2048)              0         \n",
      "_________________________________________________________________\n",
      "dense_1 (Dense)              (None, 133)               272517    \n",
      "=================================================================\n",
      "Total params: 272,517.0\n",
      "Trainable params: 272,517.0\n",
      "Non-trainable params: 0.0\n",
      "_________________________________________________________________\n"
     ]
    }
   ],
   "source": [
    "# Define the new model\n",
    "\n",
    "new_model = Sequential()\n",
    "\n",
    "new_model.add(GlobalAveragePooling2D(input_shape=train_data.shape[1:]))\n",
    "\n",
    "# final fully connected layer\n",
    "new_model.add(Dense(number_of_train_classes, activation='softmax'))\n",
    "\n",
    "new_model.summary()"
   ]
  },
  {
   "cell_type": "code",
   "execution_count": 14,
   "metadata": {},
   "outputs": [
    {
     "name": "stdout",
     "output_type": "stream",
     "text": [
      "WARNING:tensorflow:From /home/craig/anaconda3/envs/dog-project/lib/python3.6/site-packages/keras/backend/tensorflow_backend.py:2548: calling reduce_sum (from tensorflow.python.ops.math_ops) with keep_dims is deprecated and will be removed in a future version.\n",
      "Instructions for updating:\n",
      "keep_dims is deprecated, use keepdims instead\n"
     ]
    }
   ],
   "source": [
    "# Compile the model\n",
    "\n",
    "new_model.compile(loss='categorical_crossentropy', optimizer='adam', metrics=['accuracy'])"
   ]
  },
  {
   "cell_type": "code",
   "execution_count": 15,
   "metadata": {},
   "outputs": [
    {
     "name": "stdout",
     "output_type": "stream",
     "text": [
      "Train on 6680 samples, validate on 835 samples\n",
      "Epoch 1/10\n",
      "6560/6680 [============================>.] - ETA: 0s - loss: 2.0140 - acc: 0.5284Epoch 00000: val_loss improved from inf to 1.33600, saving model to saved_models/weights.best.InceptionV3.hdf5\n",
      "6680/6680 [==============================] - 2s - loss: 2.0049 - acc: 0.5290 - val_loss: 1.3360 - val_acc: 0.6228\n",
      "Epoch 2/10\n",
      "6528/6680 [============================>.] - ETA: 0s - loss: 0.8051 - acc: 0.7583Epoch 00001: val_loss did not improve\n",
      "6680/6680 [==============================] - 2s - loss: 0.8091 - acc: 0.7570 - val_loss: 1.3426 - val_acc: 0.6563\n",
      "Epoch 3/10\n",
      "6528/6680 [============================>.] - ETA: 0s - loss: 0.5167 - acc: 0.8434Epoch 00002: val_loss improved from 1.33600 to 1.28456, saving model to saved_models/weights.best.InceptionV3.hdf5\n",
      "6680/6680 [==============================] - 2s - loss: 0.5177 - acc: 0.8433 - val_loss: 1.2846 - val_acc: 0.6707\n",
      "Epoch 4/10\n",
      "6560/6680 [============================>.] - ETA: 0s - loss: 0.3250 - acc: 0.9040Epoch 00003: val_loss improved from 1.28456 to 1.25872, saving model to saved_models/weights.best.InceptionV3.hdf5\n",
      "6680/6680 [==============================] - 2s - loss: 0.3267 - acc: 0.9028 - val_loss: 1.2587 - val_acc: 0.6814\n",
      "Epoch 5/10\n",
      "6464/6680 [============================>.] - ETA: 0s - loss: 0.2193 - acc: 0.9392Epoch 00004: val_loss did not improve\n",
      "6680/6680 [==============================] - 2s - loss: 0.2208 - acc: 0.9386 - val_loss: 1.3044 - val_acc: 0.6766\n",
      "Epoch 6/10\n",
      "6592/6680 [============================>.] - ETA: 0s - loss: 0.1490 - acc: 0.9678Epoch 00005: val_loss improved from 1.25872 to 1.25181, saving model to saved_models/weights.best.InceptionV3.hdf5\n",
      "6680/6680 [==============================] - 2s - loss: 0.1492 - acc: 0.9677 - val_loss: 1.2518 - val_acc: 0.6814\n",
      "Epoch 7/10\n",
      "6624/6680 [============================>.] - ETA: 0s - loss: 0.1127 - acc: 0.9789Epoch 00006: val_loss did not improve\n",
      "6680/6680 [==============================] - 2s - loss: 0.1130 - acc: 0.9787 - val_loss: 1.2755 - val_acc: 0.6898\n",
      "Epoch 8/10\n",
      "6496/6680 [============================>.] - ETA: 0s - loss: 0.0745 - acc: 0.9914Epoch 00007: val_loss did not improve\n",
      "6680/6680 [==============================] - 2s - loss: 0.0747 - acc: 0.9913 - val_loss: 1.2639 - val_acc: 0.6862\n",
      "Epoch 9/10\n",
      "6592/6680 [============================>.] - ETA: 0s - loss: 0.0543 - acc: 0.9959Epoch 00008: val_loss did not improve\n",
      "6680/6680 [==============================] - 2s - loss: 0.0542 - acc: 0.9960 - val_loss: 1.2730 - val_acc: 0.6958\n",
      "Epoch 10/10\n",
      "6528/6680 [============================>.] - ETA: 0s - loss: 0.0426 - acc: 0.9985Epoch 00009: val_loss did not improve\n",
      "6680/6680 [==============================] - 2s - loss: 0.0425 - acc: 0.9985 - val_loss: 1.3072 - val_acc: 0.6934\n"
     ]
    }
   ],
   "source": [
    "# Train the new model\n",
    "\n",
    "checkpointer = ModelCheckpoint(filepath='saved_models/weights.best.InceptionV3.hdf5', verbose=1, save_best_only=True)\n",
    "\n",
    "history = new_model.fit(train_data, train_labels, \n",
    "          validation_data=(valid_data, valid_labels),\n",
    "          epochs=10, batch_size=batch_size, callbacks=[checkpointer], verbose=1)"
   ]
  },
  {
   "cell_type": "code",
   "execution_count": 16,
   "metadata": {},
   "outputs": [
    {
     "data": {
      "image/png": "[encoded data removed]",
      "text/plain": [
       "<matplotlib.figure.Figure at 0x7fe7717188d0>"
      ]
     },
     "metadata": {},
     "output_type": "display_data"
    },
    {
     "data": {
      "image/png": "[encoded data removed]",
      "text/plain": [
       "<matplotlib.figure.Figure at 0x7fe771718898>"
      ]
     },
     "metadata": {},
     "output_type": "display_data"
    }
   ],
   "source": [
    "utility.plot_accuracy(history)\n",
    "utility.plot_loss(history)"
   ]
  },
  {
   "cell_type": "markdown",
   "metadata": {},
   "source": [
    "### Use New Model to Make Predictions"
   ]
  },
  {
   "cell_type": "code",
   "execution_count": 17,
   "metadata": {},
   "outputs": [
    {
     "name": "stdout",
     "output_type": "stream",
     "text": [
      "Test accuracy: 80.9809%\n"
     ]
    }
   ],
   "source": [
    "# load the model weights with the best validation loss\n",
    "new_model.load_weights('saved_models/weights.best.InceptionV3.hdf5')\n",
    "\n",
    "# get index of predicted dog breed for each image in test set\n",
    "predictions = [np.argmax(new_model.predict(np.expand_dims(feature, axis=0))) for feature in test_data]\n",
    "\n",
    "# report test accuracy\n",
    "test_accuracy = 100*np.sum(np.array(predictions)==np.argmax(test_labels, axis=1))/len(predictions)\n",
    "print('Test accuracy: %.4f%%' % test_accuracy)"
   ]
  },
  {
   "cell_type": "code",
   "execution_count": null,
   "metadata": {
    "collapsed": true
   },
   "outputs": [],
   "source": []
  }
 ],
 "metadata": {
  "anaconda-cloud": {},
  "kernelspec": {
   "display_name": "dog-project",
   "language": "python",
   "name": "dog-project"
  },
  "language_info": {
   "codemirror_mode": {
    "name": "ipython",
    "version": 3
   },
   "file_extension": ".py",
   "mimetype": "text/x-python",
   "name": "python",
   "nbconvert_exporter": "python",
   "pygments_lexer": "ipython3",
   "version": "3.6.1"
  }
 },
 "nbformat": 4,
 "nbformat_minor": 1
}
