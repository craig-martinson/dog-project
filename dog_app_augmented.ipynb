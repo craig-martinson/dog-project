{
 "cells": [
  {
   "cell_type": "code",
   "execution_count": 2,
   "metadata": {},
   "outputs": [
    {
     "name": "stdout",
     "output_type": "stream",
     "text": [
      "Tensorflow version: 1.8.0\n",
      "Keras version: 2.0.2\n"
     ]
    }
   ],
   "source": [
    "utility.print_versions()"
   ]
  },
  {
   "cell_type": "code",
   "execution_count": 34,
   "metadata": {},
   "outputs": [],
   "source": [
    "from sklearn.datasets import load_files       \n",
    "from keras.utils import np_utils\n",
    "import numpy as np\n",
    "from glob import glob\n",
    "import tensorflow as tf\n",
    "import keras as keras\n",
    "from keras.layers import Conv2D, MaxPooling2D, GlobalAveragePooling2D\n",
    "from keras.layers import Dropout, Flatten, Dense, BatchNormalization\n",
    "from keras.models import Sequential\n",
    "from keras.preprocessing.image import ImageDataGenerator\n",
    "from keras.callbacks import ModelCheckpoint \n",
    "from keras.utils.np_utils import to_categorical\n",
    "import math\n",
    "import utility"
   ]
  },
  {
   "cell_type": "markdown",
   "metadata": {},
   "source": [
    "---\n",
    "<a id='step5'></a>\n",
    "## Step 5: Create a CNN to Classify Dog Breeds (using Transfer Learning)\n",
    "\n",
    "This is an alternative to Step 5 in the project where transfer learning is used to create a CNN that can identify dog breed from images.  The CNN must attain at least 60% accuracy on the test set.\n",
    "\n",
    "### High Level Approach\n",
    "\n",
    "The high level approach is as follows:\n",
    "\n",
    "1. Extract the bottleneck features from the InceptionV3 model\n",
    "2. Train a new network using the extracted bottleneck features and save the model\n",
    "3. Use both the InceptionV3 model and the new model to make predictions\n",
    "\n",
    "To mitigate against overfitting image augmentation will be used to train the new network."
   ]
  },
  {
   "cell_type": "markdown",
   "metadata": {},
   "source": [
    "#### Extract Bottleneck Features from InceptionV3 Model\n",
    "\n",
    "Extract bottleneck features by running augmented images through InceptionV3 with the final fully-connected layers removed."
   ]
  },
  {
   "cell_type": "markdown",
   "metadata": {},
   "source": [
    "The following is required to address a bug when using ImageDataGenerator and the InceptionV3 model. See [IOError: Image File is truncated](https://github.com/keras-team/keras/issues/5475) for details."
   ]
  },
  {
   "cell_type": "code",
   "execution_count": 17,
   "metadata": {
    "collapsed": true
   },
   "outputs": [],
   "source": [
    "from PIL import ImageFile\n",
    "ImageFile.LOAD_TRUNCATED_IMAGES = True"
   ]
  },
  {
   "cell_type": "markdown",
   "metadata": {},
   "source": [
    "Get the InceptionV3 model with the final fully-connected layers removed."
   ]
  },
  {
   "cell_type": "code",
   "execution_count": 25,
   "metadata": {},
   "outputs": [],
   "source": [
    "from keras.applications.inception_v3 import InceptionV3\n",
    "model = InceptionV3(include_top=False)\n",
    "#model.summary()"
   ]
  },
  {
   "cell_type": "code",
   "execution_count": 19,
   "metadata": {
    "collapsed": true
   },
   "outputs": [],
   "source": [
    "augment_datagen = ImageDataGenerator(\n",
    "        rescale=1./255,\n",
    "        shear_range=0.2,\n",
    "        zoom_range=0.2,\n",
    "        horizontal_flip=True)\n",
    "\n",
    "test_datagen = ImageDataGenerator(rescale=1./255)\n",
    "\n",
    "batch_size = 32"
   ]
  },
  {
   "cell_type": "markdown",
   "metadata": {},
   "source": [
    "#### Extract Bottleneck Features for Training\n",
    "\n",
    "Use a data generator to run augmented images from the training dataset through the network."
   ]
  },
  {
   "cell_type": "code",
   "execution_count": 20,
   "metadata": {},
   "outputs": [
    {
     "name": "stdout",
     "output_type": "stream",
     "text": [
      "Found 6680 images belonging to 133 classes.\n"
     ]
    }
   ],
   "source": [
    "train_generator = augment_datagen.flow_from_directory(\n",
    "        'dogImages/train',\n",
    "        target_size=(224, 224),\n",
    "        batch_size=batch_size,\n",
    "        class_mode=None,\n",
    "        shuffle=False)\n",
    "\n",
    "number_of_train_samples = len(train_generator.filenames)\n",
    "number_of_train_classes = len(train_generator.class_indices)\n",
    "number_of_train_steps = int(math.ceil(number_of_train_samples / float(batch_size)))\n",
    "\n",
    "train_bottleneck_features = model.predict_generator(train_generator, number_of_train_steps)"
   ]
  },
  {
   "cell_type": "markdown",
   "metadata": {},
   "source": [
    "#### Extract Bottleneck Features for Validation\n",
    "\n",
    "Use a data generator to run augmented images from the validation dataset through the network."
   ]
  },
  {
   "cell_type": "code",
   "execution_count": 21,
   "metadata": {},
   "outputs": [
    {
     "name": "stdout",
     "output_type": "stream",
     "text": [
      "Found 835 images belonging to 133 classes.\n"
     ]
    }
   ],
   "source": [
    "valid_generator = augment_datagen.flow_from_directory(\n",
    "        'dogImages/valid',\n",
    "        target_size=(224, 224),\n",
    "        batch_size=batch_size,\n",
    "        class_mode=None,\n",
    "        shuffle=False)\n",
    "\n",
    "number_of_valid_samples = len(valid_generator.filenames)\n",
    "number_of_valid_classes = len(valid_generator.class_indices)\n",
    "number_of_valid_steps = int(math.ceil(number_of_valid_samples / float(batch_size)))\n",
    "\n",
    "valid_bottleneck_features = model.predict_generator(valid_generator, number_of_valid_steps)"
   ]
  },
  {
   "cell_type": "markdown",
   "metadata": {},
   "source": [
    "#### Extract Bottleneck Features for Testing\n",
    "\n",
    "Use a data generator to run non-augmented images from the testing dataset through the network."
   ]
  },
  {
   "cell_type": "code",
   "execution_count": 22,
   "metadata": {},
   "outputs": [
    {
     "name": "stdout",
     "output_type": "stream",
     "text": [
      "Found 836 images belonging to 133 classes.\n"
     ]
    }
   ],
   "source": [
    "test_generator = test_datagen.flow_from_directory(\n",
    "        'dogImages/test',\n",
    "        target_size=(224, 224),\n",
    "        batch_size=batch_size,\n",
    "        class_mode=None,\n",
    "        shuffle=False)\n",
    "\n",
    "number_of_test_samples = len(test_generator.filenames)\n",
    "number_of_test_classes = len(test_generator.class_indices)\n",
    "number_of_test_steps = int(math.ceil(number_of_test_samples / float(batch_size)))\n",
    "\n",
    "test_bottleneck_features = model.predict_generator(test_generator, number_of_test_steps)"
   ]
  },
  {
   "cell_type": "markdown",
   "metadata": {},
   "source": [
    "#### Save Bottleneck Features\n",
    "\n",
    "Save the bottleneck features to an .npz file\n"
   ]
  },
  {
   "cell_type": "code",
   "execution_count": 24,
   "metadata": {},
   "outputs": [],
   "source": [
    "np.savez('bottleneck_features/dog_features_augmented_InceptionV3Data.npz', train=train_bottleneck_features, valid=valid_bottleneck_features, test=test_bottleneck_features)"
   ]
  },
  {
   "cell_type": "markdown",
   "metadata": {},
   "source": [
    "### (IMPLEMENTATION) Model Architecture\n",
    "\n",
    "Create a CNN to classify dog breed.  At the end of your code cell block, summarize the layers of your model by executing the line:\n",
    "    \n",
    "        <your model's name>.summary()\n",
    "   \n",
    "__Question 5:__ Outline the steps you took to get to your final CNN architecture and your reasoning at each step.  Describe why you think the architecture is suitable for the current problem.\n",
    "\n",
    "__Answer:__ \n",
    "1. Model was overfitting as training accuracy was higher than validation accuracy.\n",
    "2. Reduce architecture complexity\n",
    "3. Add regularization\n",
    "4. Use data augmentation\n",
    "5. Start with a low dropout in the first layer and then gradually increase\n"
   ]
  },
  {
   "cell_type": "code",
   "execution_count": 27,
   "metadata": {},
   "outputs": [
    {
     "name": "stdout",
     "output_type": "stream",
     "text": [
      "WARNING:tensorflow:From /home/craig/anaconda3/envs/dog-project/lib/python3.6/site-packages/keras/backend/tensorflow_backend.py:1123: calling reduce_mean (from tensorflow.python.ops.math_ops) with keep_dims is deprecated and will be removed in a future version.\n",
      "Instructions for updating:\n",
      "keep_dims is deprecated, use keepdims instead\n",
      "_________________________________________________________________\n",
      "Layer (type)                 Output Shape              Param #   \n",
      "=================================================================\n",
      "conv2d_659 (Conv2D)          (None, 4, 4, 96)          786528    \n",
      "_________________________________________________________________\n",
      "batch_normalization_659 (Bat (None, 4, 4, 96)          16        \n",
      "_________________________________________________________________\n",
      "dropout_1 (Dropout)          (None, 4, 4, 96)          0         \n",
      "_________________________________________________________________\n",
      "global_average_pooling2d_1 ( (None, 96)                0         \n",
      "_________________________________________________________________\n",
      "dropout_2 (Dropout)          (None, 96)                0         \n",
      "_________________________________________________________________\n",
      "dense_1 (Dense)              (None, 133)               12901     \n",
      "=================================================================\n",
      "Total params: 799,445.0\n",
      "Trainable params: 799,437.0\n",
      "Non-trainable params: 8.0\n",
      "_________________________________________________________________\n"
     ]
    }
   ],
   "source": [
    "### Define your architecture.\n",
    "InceptionV3_model = Sequential()\n",
    "InceptionV3_model.add(Conv2D(filters=96, kernel_size=2, strides=1, padding='valid', input_shape=train_InceptionV3.shape[1:], activation='relu'))\n",
    "InceptionV3_model.add(BatchNormalization(axis=1))\n",
    "InceptionV3_model.add(Dropout(0.3))\n",
    "InceptionV3_model.add(GlobalAveragePooling2D())\n",
    "InceptionV3_model.add(Dropout(0.4))\n",
    "InceptionV3_model.add(Dense(133, activation='softmax'))\n",
    "\n",
    "InceptionV3_model.summary()"
   ]
  },
  {
   "cell_type": "markdown",
   "metadata": {},
   "source": [
    "### (IMPLEMENTATION) Compile the Model"
   ]
  },
  {
   "cell_type": "code",
   "execution_count": 28,
   "metadata": {},
   "outputs": [
    {
     "name": "stdout",
     "output_type": "stream",
     "text": [
      "WARNING:tensorflow:From /home/craig/anaconda3/envs/dog-project/lib/python3.6/site-packages/keras/backend/tensorflow_backend.py:2548: calling reduce_sum (from tensorflow.python.ops.math_ops) with keep_dims is deprecated and will be removed in a future version.\n",
      "Instructions for updating:\n",
      "keep_dims is deprecated, use keepdims instead\n"
     ]
    }
   ],
   "source": [
    "### TODO: Compile the model.\n",
    "InceptionV3_model.compile(loss='categorical_crossentropy', optimizer='rmsprop', metrics=['accuracy'])"
   ]
  },
  {
   "cell_type": "markdown",
   "metadata": {},
   "source": [
    "### (IMPLEMENTATION) Train the Model\n",
    "\n",
    "Train your model in the code cell below.  Use model checkpointing to save the model that attains the best validation loss.  \n",
    "\n",
    "You are welcome to [augment the training data](https://blog.keras.io/building-powerful-image-classification-models-using-very-little-data.html), but this is not a requirement. "
   ]
  },
  {
   "cell_type": "code",
   "execution_count": 32,
   "metadata": {
    "collapsed": true
   },
   "outputs": [],
   "source": [
    "# load the bottleneck features\n",
    "bottleneck_features = np.load('bottleneck_features/dog_features_augmented_InceptionV3Data.npz')"
   ]
  },
  {
   "cell_type": "code",
   "execution_count": 44,
   "metadata": {},
   "outputs": [
    {
     "name": "stdout",
     "output_type": "stream",
     "text": [
      "Found 6680 images belonging to 133 classes.\n"
     ]
    }
   ],
   "source": [
    "test_generator = augment_datagen.flow_from_directory(\n",
    "        'dogImages/train',\n",
    "        target_size=(224, 224),\n",
    "        batch_size=batch_size,\n",
    "        class_mode='categorical',\n",
    "        shuffle=False)\n",
    "\n",
    "number_of_train_samples = len(test_generator.filenames)\n",
    "number_of_train_classes = len(test_generator.class_indices)\n",
    "number_of_train_steps = int(math.ceil(number_of_train_samples / float(batch_size)))\n",
    "\n",
    "# get the bottleneck features\n",
    "train_data = bottleneck_features['train']\n",
    "\n",
    "# get class lables\n",
    "train_labels = test_generator.classes\n",
    "\n",
    "# convert to categorical vectors\n",
    "train_labels = to_categorical(train_labels, num_classes=number_of_train_classes)"
   ]
  },
  {
   "cell_type": "code",
   "execution_count": 45,
   "metadata": {},
   "outputs": [
    {
     "name": "stdout",
     "output_type": "stream",
     "text": [
      "Found 835 images belonging to 133 classes.\n"
     ]
    }
   ],
   "source": [
    "valid_generator = augment_datagen.flow_from_directory(\n",
    "        'dogImages/valid',\n",
    "        target_size=(224, 224),\n",
    "        batch_size=batch_size,\n",
    "        class_mode=None,\n",
    "        shuffle=False)\n",
    "\n",
    "number_of_valid_samples = len(valid_generator.filenames)\n",
    "number_of_valid_classes = len(valid_generator.class_indices)\n",
    "number_of_valid_steps = int(math.ceil(number_of_valid_samples / float(batch_size)))\n",
    "\n",
    "# get the bottleneck features\n",
    "valid_data = bottleneck_features['valid']\n",
    "\n",
    "# get class lables\n",
    "valid_labels = valid_generator.classes\n",
    "\n",
    "# convert to categorical vectors\n",
    "valid_labels = to_categorical(valid_labels, num_classes=number_of_valid_classes)"
   ]
  },
  {
   "cell_type": "code",
   "execution_count": 46,
   "metadata": {},
   "outputs": [
    {
     "name": "stdout",
     "output_type": "stream",
     "text": [
      "Found 836 images belonging to 133 classes.\n"
     ]
    }
   ],
   "source": [
    "test_generator = test_datagen.flow_from_directory(\n",
    "        'dogImages/test',\n",
    "        target_size=(224, 224),\n",
    "        batch_size=batch_size,\n",
    "        class_mode=None,\n",
    "        shuffle=False)\n",
    "\n",
    "number_of_test_samples = len(test_generator.filenames)\n",
    "number_of_test_classes = len(test_generator.class_indices)\n",
    "number_of_test_steps = int(math.ceil(number_of_test_samples / float(batch_size)))\n",
    "\n",
    "# get the bottleneck features\n",
    "test_data = bottleneck_features['test']\n",
    "\n",
    "# get class lables\n",
    "test_labels = test_generator.classes\n",
    "\n",
    "# convert to categorical vectors\n",
    "test_labels = to_categorical(test_labels, num_classes=number_of_test_classes)"
   ]
  },
  {
   "cell_type": "code",
   "execution_count": 47,
   "metadata": {},
   "outputs": [
    {
     "name": "stdout",
     "output_type": "stream",
     "text": [
      "Train on 6680 samples, validate on 835 samples\n",
      "Epoch 1/10\n",
      "6592/6680 [============================>.] - ETA: 0s - loss: 0.4815 - acc: 0.8574Epoch 00000: val_loss improved from inf to 0.67808, saving model to saved_models/weights.best.InceptionV3.hdf5\n",
      "6680/6680 [==============================] - 2s - loss: 0.4842 - acc: 0.8569 - val_loss: 0.6781 - val_acc: 0.8084\n",
      "Epoch 2/10\n",
      "6528/6680 [============================>.] - ETA: 0s - loss: 0.4364 - acc: 0.8649Epoch 00001: val_loss did not improve\n",
      "6680/6680 [==============================] - 2s - loss: 0.4409 - acc: 0.8635 - val_loss: 0.7235 - val_acc: 0.8000\n",
      "Epoch 3/10\n",
      "6656/6680 [============================>.] - ETA: 0s - loss: 0.3849 - acc: 0.8809Epoch 00002: val_loss did not improve\n",
      "6680/6680 [==============================] - 2s - loss: 0.3850 - acc: 0.8810 - val_loss: 0.6968 - val_acc: 0.8132\n",
      "Epoch 4/10\n",
      "6592/6680 [============================>.] - ETA: 0s - loss: 0.3578 - acc: 0.8855Epoch 00003: val_loss did not improve\n",
      "6680/6680 [==============================] - 2s - loss: 0.3594 - acc: 0.8852 - val_loss: 0.7276 - val_acc: 0.7904\n",
      "Epoch 5/10\n",
      "6592/6680 [============================>.] - ETA: 0s - loss: 0.3386 - acc: 0.8965Epoch 00004: val_loss improved from 0.67808 to 0.66489, saving model to saved_models/weights.best.InceptionV3.hdf5\n",
      "6680/6680 [==============================] - 2s - loss: 0.3372 - acc: 0.8969 - val_loss: 0.6649 - val_acc: 0.8216\n",
      "Epoch 6/10\n",
      "6592/6680 [============================>.] - ETA: 0s - loss: 0.3115 - acc: 0.9025Epoch 00005: val_loss did not improve\n",
      "6680/6680 [==============================] - 2s - loss: 0.3106 - acc: 0.9027 - val_loss: 0.7509 - val_acc: 0.8012\n",
      "Epoch 7/10\n",
      "6592/6680 [============================>.] - ETA: 0s - loss: 0.2813 - acc: 0.9123Epoch 00006: val_loss did not improve\n",
      "6680/6680 [==============================] - 2s - loss: 0.2806 - acc: 0.9126 - val_loss: 0.7370 - val_acc: 0.8000\n",
      "Epoch 8/10\n",
      "6592/6680 [============================>.] - ETA: 0s - loss: 0.2714 - acc: 0.9134Epoch 00007: val_loss did not improve\n",
      "6680/6680 [==============================] - 2s - loss: 0.2716 - acc: 0.9132 - val_loss: 0.7516 - val_acc: 0.8132\n",
      "Epoch 9/10\n",
      "6656/6680 [============================>.] - ETA: 0s - loss: 0.2353 - acc: 0.9295Epoch 00008: val_loss did not improve\n",
      "6680/6680 [==============================] - 2s - loss: 0.2359 - acc: 0.9293 - val_loss: 0.7804 - val_acc: 0.8060\n",
      "Epoch 10/10\n",
      "6592/6680 [============================>.] - ETA: 0s - loss: 0.2227 - acc: 0.9258Epoch 00009: val_loss did not improve\n",
      "6680/6680 [==============================] - 2s - loss: 0.2233 - acc: 0.9260 - val_loss: 0.7862 - val_acc: 0.7916\n"
     ]
    }
   ],
   "source": [
    "### TODO: Train the model.\n",
    "checkpointer = ModelCheckpoint(filepath='saved_models/weights.best.InceptionV3.hdf5', verbose=1, save_best_only=True)\n",
    "\n",
    "history = InceptionV3_model.fit(train_data, train_labels, \n",
    "          validation_data=(valid_data, valid_labels),\n",
    "          epochs=10, batch_size=batch_size, callbacks=[checkpointer], verbose=1)"
   ]
  },
  {
   "cell_type": "code",
   "execution_count": 48,
   "metadata": {},
   "outputs": [
    {
     "data": {
      "image/png": "[encoded data removed]",
      "text/plain": [
       "<matplotlib.figure.Figure at 0x7fe6cdc1fdd8>"
      ]
     },
     "metadata": {},
     "output_type": "display_data"
    },
    {
     "data": {
      "image/png": "[encoded data removed]",
      "text/plain": [
       "<matplotlib.figure.Figure at 0x7fe6cc015550>"
      ]
     },
     "metadata": {},
     "output_type": "display_data"
    }
   ],
   "source": [
    "utility.plot_accuracy(history)\n",
    "utility.plot_loss(history)"
   ]
  },
  {
   "cell_type": "markdown",
   "metadata": {},
   "source": [
    "### (IMPLEMENTATION) Load the Model with the Best Validation Loss"
   ]
  },
  {
   "cell_type": "code",
   "execution_count": 49,
   "metadata": {
    "collapsed": true
   },
   "outputs": [],
   "source": [
    "### Load the model weights with the best validation loss.\n",
    "InceptionV3_model.load_weights('saved_models/weights.best.InceptionV3.hdf5')"
   ]
  },
  {
   "cell_type": "markdown",
   "metadata": {},
   "source": [
    "### (IMPLEMENTATION) Test the Model\n",
    "\n",
    "Try out your model on the test dataset of dog images. Ensure that your test accuracy is greater than 60%."
   ]
  },
  {
   "cell_type": "code",
   "execution_count": 50,
   "metadata": {},
   "outputs": [
    {
     "name": "stdout",
     "output_type": "stream",
     "text": [
      "Test accuracy: 83.1340%\n"
     ]
    }
   ],
   "source": [
    "# get index of predicted dog breed for each image in test set\n",
    "predictions = [np.argmax(InceptionV3_model.predict(np.expand_dims(feature, axis=0))) for feature in test_data]\n",
    "\n",
    "# report test accuracy\n",
    "test_accuracy = 100*np.sum(np.array(predictions)==np.argmax(test_labels, axis=1))/len(predictions)\n",
    "print('Test accuracy: %.4f%%' % test_accuracy)"
   ]
  },
  {
   "cell_type": "markdown",
   "metadata": {},
   "source": [
    "### (IMPLEMENTATION) Predict Dog Breed with the Model\n",
    "\n",
    "Write a function that takes an image path as input and returns the dog breed (`Affenpinscher`, `Afghan_hound`, etc) that is predicted by your model.  \n",
    "\n",
    "Similar to the analogous function in Step 5, your function should have three steps:\n",
    "1. Extract the bottleneck features corresponding to the chosen CNN model.\n",
    "2. Supply the bottleneck features as input to the model to return the predicted vector.  Note that the argmax of this prediction vector gives the index of the predicted dog breed.\n",
    "3. Use the `dog_names` array defined in Step 0 of this notebook to return the corresponding breed.\n",
    "\n",
    "The functions to extract the bottleneck features can be found in `extract_bottleneck_features.py`, and they have been imported in an earlier code cell.  To obtain the bottleneck features corresponding to your chosen CNN architecture, you need to use the function\n",
    "\n",
    "    extract_{network}\n",
    "    \n",
    "where `{network}`, in the above filename, should be one of `VGG19`, `Resnet50`, `InceptionV3`, or `Xception`."
   ]
  },
  {
   "cell_type": "code",
   "execution_count": null,
   "metadata": {
    "collapsed": true
   },
   "outputs": [],
   "source": [
    "### Returns the dog breed that is predicted by the model.\n",
    "def InceptionV3_predict_breed(img_path): \n",
    "    # extract bottleneck features\n",
    "    bottleneck_feature = extract_InceptionV3(path_to_tensor(img_path))\n",
    "    \n",
    "    # obtain predicted vector\n",
    "    predicted_vector = InceptionV3_model.predict(bottleneck_feature)\n",
    "    \n",
    "    # return dog breed that is predicted by the model\n",
    "    return dog_names[np.argmax(predicted_vector)]"
   ]
  },
  {
   "cell_type": "markdown",
   "metadata": {},
   "source": [
    "---\n",
    "<a id='step6'></a>\n",
    "## Step 6: Write your Algorithm\n",
    "\n",
    "Write an algorithm that accepts a file path to an image and first determines whether the image contains a human, dog, or neither.  Then,\n",
    "- if a __dog__ is detected in the image, return the predicted breed.\n",
    "- if a __human__ is detected in the image, return the resembling dog breed.\n",
    "- if __neither__ is detected in the image, provide output that indicates an error.\n",
    "\n",
    "You are welcome to write your own functions for detecting humans and dogs in images, but feel free to use the `face_detector` and `dog_detector` functions developed above.  You are __required__ to use your CNN from Step 5 to predict dog breed.  \n",
    "\n",
    "Some sample output for our algorithm is provided below, but feel free to design your own user experience!\n",
    "\n",
    "![Sample Human Output](images/sample_human_output.png)\n",
    "\n",
    "\n",
    "### (IMPLEMENTATION) Write your Algorithm"
   ]
  },
  {
   "cell_type": "code",
   "execution_count": null,
   "metadata": {
    "collapsed": true
   },
   "outputs": [],
   "source": [
    "def predict_dog_breed_from_human_or_dog(img_path):\n",
    "    image_type = \"error\"\n",
    "    dog_breed = \"N/A\"\n",
    "    \n",
    "    if face_detector(img_path):\n",
    "        image_type = \"face\"\n",
    "        dog_breed = InceptionV3_predict_breed(img_path)\n",
    "    elif dog_detector(img_path):\n",
    "        image_type = \"dog\"\n",
    "        dog_breed = InceptionV3_predict_breed(img_path)\n",
    "    \n",
    "    return image_type, dog_breed"
   ]
  },
  {
   "cell_type": "markdown",
   "metadata": {},
   "source": [
    "---\n",
    "<a id='step7'></a>\n",
    "## Step 7: Test Your Algorithm\n",
    "\n",
    "In this section, you will take your new algorithm for a spin!  What kind of dog does the algorithm think that __you__ look like?  If you have a dog, does it predict your dog's breed accurately?  If you have a cat, does it mistakenly think that your cat is a dog?\n",
    "\n",
    "### (IMPLEMENTATION) Test Your Algorithm on Sample Images!\n",
    "\n",
    "Test your algorithm at least six images on your computer.  Feel free to use any images you like.  Use at least two human and two dog images.  \n",
    "\n",
    "__Question 6:__ Is the output better than you expected :) ?  Or worse :( ?  Provide at least three possible points of improvement for your algorithm.\n",
    "\n",
    "__Answer:__ "
   ]
  },
  {
   "cell_type": "code",
   "execution_count": null,
   "metadata": {
    "collapsed": true
   },
   "outputs": [],
   "source": [
    "## TODO: Execute your algorithm from Step 6 on\n",
    "## at least 6 images on your computer.\n",
    "## Feel free to use as many code cells as needed.\n",
    "import matplotlib.image as mpimg                     \n",
    "%matplotlib inline \n",
    "\n",
    "def show_image(img_path):\n",
    "    img = mpimg.imread(img_path)\n",
    "    plt.imshow(img)\n",
    "    plt.show()\n",
    "    \n",
    "def test_algorithm(img_path):\n",
    "    print(\"\\nProcessing: {}\".format(img_path))\n",
    "    show_image(img_path)\n",
    "    \n",
    "    image_type, dog_breed = predict_dog_breed_from_human_or_dog(img_path)\n",
    "\n",
    "    if image_type is \"face\":       \n",
    "        print(\"This human looks like a {}\".format(dog_breed))\n",
    "    elif image_type is \"dog\":\n",
    "        print(\"This dog looks like a {}\".format(dog_breed))\n",
    "    else:\n",
    "        print(\"Error neither human or dog detected!\")"
   ]
  },
  {
   "cell_type": "code",
   "execution_count": null,
   "metadata": {
    "collapsed": true
   },
   "outputs": [],
   "source": [
    "# load list of dog names\n",
    "sample_images = glob(\"images/*\")\n",
    "\n",
    "for sample_image in sample_images:\n",
    "    test_algorithm(sample_image)"
   ]
  },
  {
   "cell_type": "code",
   "execution_count": null,
   "metadata": {
    "collapsed": true
   },
   "outputs": [],
   "source": []
  }
 ],
 "metadata": {
  "anaconda-cloud": {},
  "kernelspec": {
   "display_name": "dog-project",
   "language": "python",
   "name": "dog-project"
  },
  "language_info": {
   "codemirror_mode": {
    "name": "ipython",
    "version": 3
   },
   "file_extension": ".py",
   "mimetype": "text/x-python",
   "name": "python",
   "nbconvert_exporter": "python",
   "pygments_lexer": "ipython3",
   "version": "3.6.1"
  }
 },
 "nbformat": 4,
 "nbformat_minor": 1
}
